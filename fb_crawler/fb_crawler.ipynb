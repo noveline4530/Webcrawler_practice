{
 "cells": [
  {
   "cell_type": "code",
   "execution_count": null,
   "metadata": {},
   "outputs": [],
   "source": [
    "from urllib.request import urlopen\n",
    "from bs4 import BeautifulSoup\n",
    "import time"
   ]
  },
  {
   "cell_type": "code",
   "execution_count": null,
   "metadata": {},
   "outputs": [],
   "source": [
    "from selenium import webdriver\n",
    "url = 'https://www.facebook.com/'\n",
    "\n",
    "driver = webdriver.Chrome('chromedriver')\n",
    "driver.get(url)"
   ]
  },
  {
   "cell_type": "code",
   "execution_count": null,
   "metadata": {},
   "outputs": [],
   "source": [
    "from selenium.webdriver.common.keys import Keys"
   ]
  },
  {
   "cell_type": "code",
   "execution_count": null,
   "metadata": {},
   "outputs": [],
   "source": [
    "id_text = driver.find_element_by_xpath('//*[@id=\"email\"]')\n",
    "id_text.send_keys('id')\n",
    "pw_text = driver.find_element_by_xpath('//*[@id=\"pass\"]')\n",
    "pw_text.send_keys('password')\n",
    "login_button = driver.find_element_by_xpath('//*[@id=\"u_0_2\"]')\n",
    "login_button.click()"
   ]
  },
  {
   "cell_type": "code",
   "execution_count": null,
   "metadata": {},
   "outputs": [],
   "source": [
    "driver.get('https://www.facebook.com/writerjiwoo?__tn__=%2CdC-R-R&eid=ARAI33POshIABoyL2d8iZ2sgm0PJu9dEQO1PWE5P_dX6rRTGdodo7baNFdlYNJK18gxcp_EFwYbYaRZk&hc_ref=ARQxiY6Sjkk6RF3Fus97rIBlZ56FYkSRd_H_VDtmjjyynEVLfPXDCMjSW5zngUmRLTM&fref=nf')"
   ]
  },
  {
   "cell_type": "code",
   "execution_count": null,
   "metadata": {},
   "outputs": [],
   "source": [
    "soup = BeautifulSoup(driver.page_source, 'lxml')"
   ]
  },
  {
   "cell_type": "code",
   "execution_count": null,
   "metadata": {},
   "outputs": [],
   "source": [
    "# 페이지 스크롤 내리기\n",
    "elem = driver.find_element_by_tag_name(\"body\")\n",
    "\n",
    "no_of_pagedowns =200 \n",
    "while no_of_pagedowns:\n",
    "    elem.send_keys(Keys.PAGE_DOWN)\n",
    "    time.sleep(0.1)\n",
    "    no_of_pagedowns-=1"
   ]
  },
  {
   "cell_type": "code",
   "execution_count": null,
   "metadata": {},
   "outputs": [],
   "source": [
    "more = driver.find_elements_by_class_name('see_more_link_inner')\n",
    "conList = []\n",
    "for i in range(len(more)):\n",
    "    try:\n",
    "        more[i].click()\n",
    "    except:\n",
    "            continue\n",
    "con = driver.find_elements_by_class_name(\"userContent\")\n",
    "for m in range(len(con)):\n",
    "    conList.append(con[m].text)           "
   ]
  },
  {
   "cell_type": "code",
   "execution_count": null,
   "metadata": {
    "scrolled": false
   },
   "outputs": [],
   "source": [
    "conList"
   ]
  }
 ],
 "metadata": {
  "kernelspec": {
   "display_name": "Python 3",
   "language": "python",
   "name": "python3"
  },
  "language_info": {
   "codemirror_mode": {
    "name": "ipython",
    "version": 3
   },
   "file_extension": ".py",
   "mimetype": "text/x-python",
   "name": "python",
   "nbconvert_exporter": "python",
   "pygments_lexer": "ipython3",
   "version": "3.6.5"
  }
 },
 "nbformat": 4,
 "nbformat_minor": 2
}
