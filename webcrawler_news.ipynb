{
 "cells": [
  {
   "cell_type": "code",
   "execution_count": 1,
   "metadata": {},
   "outputs": [],
   "source": [
    "import time\n",
    "from selenium import webdriver\n",
    "driver = webdriver.Chrome('chromedriver')\n",
    "\n",
    "url = 'https://news.naver.com/'\n",
    "driver.get(url)"
   ]
  },
  {
   "cell_type": "code",
   "execution_count": 2,
   "metadata": {},
   "outputs": [
    {
     "data": {
      "text/plain": [
       "'https://news.naver.com/'"
      ]
     },
     "execution_count": 2,
     "metadata": {},
     "output_type": "execute_result"
    }
   ],
   "source": [
    "#현재 활성탭 url주소 반환해줌\n",
    "urlname = driver.current_url\n",
    "urlname "
   ]
  },
  {
   "cell_type": "code",
   "execution_count": 3,
   "metadata": {},
   "outputs": [],
   "source": [
    "sel_xpath = driver.find_element_by_xpath('//*[@id=\"lnb.searchForm\"]/fieldset/input[1]')\n",
    "sel_xpath.clear()\n",
    "sel_xpath.send_keys('미세먼지')\n",
    "\n",
    "sel_button = driver.find_element_by_xpath('//*[@id=\"lnb.searchForm\"]/fieldset/button/span')\n",
    "sel_button.click()\n",
    "time.sleep(5)"
   ]
  },
  {
   "cell_type": "code",
   "execution_count": 4,
   "metadata": {},
   "outputs": [
    {
     "data": {
      "text/plain": [
       "['CDwindow-F24F944CB15EFDE7FF1C4827E4FC1BB9',\n",
       " 'CDwindow-BF0F4F94CD78ECC9D6EA0567376DD6B0']"
      ]
     },
     "execution_count": 4,
     "metadata": {},
     "output_type": "execute_result"
    }
   ],
   "source": [
    "driver.window_handles # 활성화된 창 목록 나타냄"
   ]
  },
  {
   "cell_type": "code",
   "execution_count": 5,
   "metadata": {},
   "outputs": [
    {
     "data": {
      "text/plain": [
       "'https://search.naver.com/search.naver?query=%EB%AF%B8%EC%84%B8%EB%A8%BC%EC%A7%80&where=news&ie=utf8&sm=nws_hty'"
      ]
     },
     "execution_count": 5,
     "metadata": {},
     "output_type": "execute_result"
    }
   ],
   "source": [
    "driver.switch_to.window(driver.window_handles[-1]) # 활성탭을 현재 창으로 변경해줌\n",
    "url_page = driver.current_url \n",
    "url_page"
   ]
  },
  {
   "cell_type": "code",
   "execution_count": 6,
   "metadata": {},
   "outputs": [],
   "source": [
    "from urllib.request import urlopen\n",
    "from bs4 import BeautifulSoup"
   ]
  },
  {
   "cell_type": "code",
   "execution_count": 7,
   "metadata": {},
   "outputs": [
    {
     "data": {
      "text/plain": [
       "['//*[@id=\"main_pack\"]/div[2]/div[2]/a[1]',\n",
       " '//*[@id=\"main_pack\"]/div[2]/div[2]/a[3]',\n",
       " '//*[@id=\"main_pack\"]/div[2]/div[2]/a[4]',\n",
       " '//*[@id=\"main_pack\"]/div[2]/div[2]/a[5]',\n",
       " '//*[@id=\"main_pack\"]/div[2]/div[2]/a[6]',\n",
       " '//*[@id=\"main_pack\"]/div[2]/div[2]/a[6]',\n",
       " '//*[@id=\"main_pack\"]/div[2]/div[2]/a[6]',\n",
       " '//*[@id=\"main_pack\"]/div[2]/div[2]/a[6]',\n",
       " '//*[@id=\"main_pack\"]/div[2]/div[2]/a[6]']"
      ]
     },
     "execution_count": 7,
     "metadata": {},
     "output_type": "execute_result"
    }
   ],
   "source": [
    "# 페이지 버튼마다 xpath값 저장(5페이지가 넘어가면 같은 위치 클릭해야함)\n",
    "page_num = []\n",
    "page_num.append('//*[@id=\"main_pack\"]/div[2]/div[2]/a[1]')\n",
    "for page in range(3,11):\n",
    "    if page <= 6 :\n",
    "        xpath = '//*[@id=\"main_pack\"]/div[2]/div[2]/a[%d]'%page\n",
    "    page_num.append(xpath)\n",
    "page_num"
   ]
  },
  {
   "cell_type": "code",
   "execution_count": 8,
   "metadata": {},
   "outputs": [
    {
     "data": {
      "text/plain": [
       "['[01시전국 날씨 예보 ]주간 날씨 ·전국 초미세먼지나들이 하기 좋은 맑은 하...',\n",
       " '서울시 보건환경硏-기술硏, ‘미세먼지 줄이기’ 28일 협약',\n",
       " \"[오늘의 미세먼지] 대기 확산 원활… 미세먼지 전 권역 '좋음'~'보통\",\n",
       " '전남도 ‘초미세먼지 비상저감조치’ 민간 확대',\n",
       " '미세먼지, 완도산 해조류로 다스린다',\n",
       " \"[날씨] 오늘날씨, 월요일 새벽 내륙에 '눈 소식'…미세먼지 '황사' 주의\",\n",
       " \"[오늘의 미세먼지] 출근길 '나쁨', 퇴근길 '보통'…추위 다소 주춤\",\n",
       " '건국대 그린패트롤사업단, 미세먼지 자동측정기 국산화 성공',\n",
       " \"[월요기획] 툭하면 주의보 … '일상'이 된 미세먼지\",\n",
       " '경북의 사업장 미세먼지 발생 82%가 포항',\n",
       " '\"미세먼지, 기관마다 수치 달라…데이터 통일부터 해야\"',\n",
       " '건국대 그린패트롤사업단, 미세먼지 자동측정기 국산화 성공',\n",
       " \"[오늘의 미세먼지] 1월 28일 오늘 대기확산 원활... 서울 전 권역 '보통'\",\n",
       " \"[오늘의 미세먼지] 대기 확산 원활… 미세먼지 전 권역 '좋음'~'보통\",\n",
       " '경기도, 김포지역 미세먼지사업장 93개소 적발',\n",
       " \"[월요기획] 툭하면 주의보 … '일상'이 된 미세먼지\",\n",
       " \"[월요기획-'일상'이 된 미세먼지] 주변국과 감축 협약 맺고 오염원 줄여야 푸...\",\n",
       " '김포, 작년 고농도 미세먼지 오염도 32% 개선',\n",
       " '미세먼지 줄여라…경북도 전기차 확대 등 저감 대책 추진',\n",
       " '경북의 사업장 미세먼지 발생 82%가 포항',\n",
       " '장재연 아주대 의대 교수 “미세먼지 겨울, 봄에만 높을까요…현재의 미세먼지...',\n",
       " \"[오늘의 날씨] 낮부터 기온 '뚝' 미세먼지 '보통'\",\n",
       " '28일 미세먼지 전국 \\'보통\\'…\"순차적으로 농도 높아질 것\"',\n",
       " '[리포트] 미세먼지에도 짱! 태안 곰피수확 한창',\n",
       " '대구경북TBC)미세먼지...가축도 괴롭다!',\n",
       " \"[오늘 날씨] 미세먼지 농도 '보통'…중부 · 전북 · 경북내륙 '눈'\",\n",
       " '청주시, 미세먼지 분진흡입차 상시 운행...분진흡입차 운영매뉴얼 제작',\n",
       " \"양평군, 미세먼지 '주범'…쓰레기 불법소각 '특별단속'\",\n",
       " '실내 스크린골프장에선 미세먼지 ‘샷’이 안 되네',\n",
       " '모처럼 맑고 미세먼지 없는 휴일…나들이 시민들 \"상쾌\"',\n",
       " \"'코빅' 장도연·허안나·이은형, 미세먼지 '완벽 차단룩'\",\n",
       " \"[오늘(28일)의 날씨] 전국 흐린 후 차차 맑음…초미세먼지 '보통'\",\n",
       " '[오늘날씨]한파특보 서울 해뜨는시간 7시41분…중부 오후 눈 미세먼지 보통',\n",
       " '<오늘날씨> 추위 누그러지고 점차 맑음, 미세먼지 ‘보통’…부산 2~10도',\n",
       " '부천, 미세먼지 저감 노후경유차 조기폐차 지원',\n",
       " \"내일(28일) '반짝 한파' 물러가고 미세먼지 미세먼지 폭탄 또 몰려온다\",\n",
       " '[27일 06시 전국 초미세먼지 정보] 오늘 날씨와 초미세먼지·미세먼지 ... 대...',\n",
       " \"미세먼지 기승에 '무선청소기' 봄 각축전 예고\",\n",
       " \"'미세먼지에 홍역'… 명절 민족대이동 초비상\",\n",
       " \"서울시, 신축·증축·리모델링 건물에 '미세먼지 제거장치' 설치 의무화\",\n",
       " '“미세먼지엔 녹차 한 잔”',\n",
       " '[전국 날씨] 1월 28일 00시 기온과 초미세먼지 , 여전히 춥고 바람 강한 날씨',\n",
       " \"미세먼지도 잡는 草綠구상 '숲속의 정원'\",\n",
       " \"[내일 날씨]맑고 오후부터 추워…미세먼지 '보통'\",\n",
       " \"미세먼지 오전 '한때 나쁨'\",\n",
       " '\"평택항 주변 미세먼지 시민건강 위협\"',\n",
       " \"'미세먼지 대책' 인공강우 실험 실패한 듯…내일 중간 결과발표\",\n",
       " \"[오늘의 미세먼지] 1월 27일 오늘 대기확산 원활... 서울 전 권역 '나쁨'\",\n",
       " \"월요일 추위 누그러져…미세먼지는 '보통'\",\n",
       " \"[내일날씨] 추위 누그러지고 점차 맑음…미세먼지 '보통'\",\n",
       " '서울시 연구기관, 첨단기술로 미세먼지 해결 시도',\n",
       " \"[오늘날씨] 낮부터 점차 기온 올라...'미세먼지는?'\",\n",
       " '“미세먼지 지옥도” “김혜교 스캔들”…정용기의 ‘말말말’',\n",
       " '[일기예보] 오늘 날씨, 전국 맑고 아침 기온 \\'뚝↓\\'…\\'서울 아침 -5도\\' \"미세...',\n",
       " '\"미세먼지 대응\"…보여주기식 미봉책 한계',\n",
       " \"[사설]미세먼지 해법 '과학'에서 찾아야\",\n",
       " '[전국날씨]기상청 \"내일 중부지방 새벽에 눈, 최고 3cm\"… 낮부터 기온 \\'뚝\\',...',\n",
       " '미세먼지 없고 포근한 겨울…전국 행락지·축제장 인산인해',\n",
       " \"신창현, '국가미세먼지센터 법적지위 격상' 개정법안 발의\",\n",
       " \"1천만그루 나무심기… 미세먼지 '비켜라'\",\n",
       " '[내일날씨] 새벽 한때 ‘눈’…미세먼지 ‘보통’',\n",
       " '미세먼지 Zero 도전, 국내최대 규모 바운스 어드벤처&트램폴린파크 삼성센터 ...',\n",
       " '미세먼지·황사에는 ‘도라지 즙’…중국서 ‘띵 호아’',\n",
       " \"'미세먼지 없는 날씨' 강원 겨울축제장·스키장 '북적'\",\n",
       " '미세먼지·추위 물러간 주말...스케이트 즐기는 시민들',\n",
       " '삼한사미 굳어진다…또다시 미세먼지 기승',\n",
       " \"[내일날씨] 추위 누그러지고 점차 맑음, 미세먼지 '보통'…서울 최저 0도·최...\",\n",
       " '\"고농도 미세먼지는 재난…중국 탓만 할 수 없어\"',\n",
       " '\\'라디오쇼\\' 박명수 \"미세먼지, 어떤 이유에서인지 다 알아\"',\n",
       " '경상남도, 18개 시군과 함께 초미세먼지 대응 강화키로',\n",
       " '[인턴액티브] 미세먼지 심해도…\"문화재 해설사는 왜 마스크를 안 쓸까\"',\n",
       " '스트레스·미세먼지에 빠지는 머리카락 막으려면',\n",
       " \"[오늘의 날씨] 아침 기온 '뚝' 전국 미세먼지 '보통'\",\n",
       " '미세먼지, 화장품으로 막으려면?…\"성분·사용법 중요해\"',\n",
       " '서울시 미세먼지 필터 의무화…상아프론테크·크린앤사이언스 주목',\n",
       " '<오늘 경기.용인 날씨 > 27일 오늘 미세먼지 등급 나쁨 언제까지 ...? 경기도...',\n",
       " \"낮부터 추위 풀려…미세먼지 '좋음' [날씨]\",\n",
       " '[천지일보 이슈종합] 손석희 긴 싸움 시작·아시안컵 4강 좌절 징크스·광화문...',\n",
       " '<일기 예보 > 27일 오늘 강릉 날씨와 미세먼지 등급은...? 강릉 종합 대기 지...',\n",
       " '[친절한 쿡캐스터] 칼바람 쌩쌩 부는 일요일…중부지역 오전에 미세먼지 주의',\n",
       " \"[오늘의날씨]낮 최고기온 1~8도, 미세먼지 전국 '좋음'~'보통'\",\n",
       " \"[날씨] 낮 기온 껑충 '서울 5도'…미세먼지 보통\",\n",
       " '오늘 전국 맑고 밤에 중부 눈발…미세먼지 ‘보통’',\n",
       " \"'미세먼지 보통' 스케이트 씽씽\",\n",
       " \"오늘(27일) 날씨, 전국 맑고 곳곳 한파…미세먼지 농도 '보통'\",\n",
       " \"미세먼지 농도 '괜찮아요'\",\n",
       " '오랜만에 찾아온 미세먼지 없는 휴일',\n",
       " \"미세먼지 농도 '보통'…외출하기 좋아요\",\n",
       " \"대전·충남 맑고 추운 휴일…미세먼지 '보통'\",\n",
       " '[오늘 날씨]전국 맑은 가운데 아침기온 영하권…미세먼지 농도 ‘보통’',\n",
       " '[대전 미세먼지 농도] 일요일 날씨와 대전 엑스포시민 광장…이응노미술관엔 ...',\n",
       " '[기상특보]기상청 오늘 날씨 예보, 미세먼지 보통!...화요일 다시 강추위!',\n",
       " \"오전 한파 지속, 낮부터 추위 풀려…미세먼지 '보통'\",\n",
       " \"[날씨] 아침까지 추위…미세먼지 '보통'\",\n",
       " '[오늘 날씨] 아침 한파 낮부터 풀려-중부 밤 눈 올 수도…미세먼지 보통',\n",
       " '[오늘 날씨] 미세먼지 없는 맑은 하늘... 그동안 못한 걷기운동 해볼까',\n",
       " \"완도군, '미세먼지 배출' 청정바다 완도산 해조류 관심\",\n",
       " \"[전국날씨]오늘 '서울 체감온도 -10도' 강추위 이어져…미세먼지 양호\",\n",
       " \"[오늘 날씨] 내륙 중심 '한파 특보'→미세먼지 농도 '보통'\",\n",
       " '[전국 날씨] 1월 27일 15시 미세먼지와 기상정보 , 추위 여전한 날씨']"
      ]
     },
     "execution_count": 8,
     "metadata": {},
     "output_type": "execute_result"
    }
   ],
   "source": [
    "page = urlopen(driver.current_url)\n",
    "soup = BeautifulSoup(page, \"html.parser\")\n",
    "title_list = []\n",
    "title_all = soup.find_all('a',class_=\"_sp_each_title\")    \n",
    "for title in title_all:           # 첫 페이지 정보 저장\n",
    "    title_list.append(title.text)\n",
    "for path in page_num:             # 2~10 페이지 정보 저장 \n",
    "    sel_xpath = driver.find_element_by_xpath(path)\n",
    "    sel_xpath.click()\n",
    "    page = urlopen(driver.current_url)\n",
    "    soup = BeautifulSoup(page, \"html.parser\")\n",
    "    title_all = soup.find_all('a',class_=\"_sp_each_title\")    \n",
    "    for title in title_all:\n",
    "        title_list.append(title.text)\n",
    "title_list"
   ]
  },
  {
   "cell_type": "code",
   "execution_count": 9,
   "metadata": {},
   "outputs": [
    {
     "data": {
      "text/plain": [
       "100"
      ]
     },
     "execution_count": 9,
     "metadata": {},
     "output_type": "execute_result"
    }
   ],
   "source": [
    "len(title_list)"
   ]
  }
 ],
 "metadata": {
  "kernelspec": {
   "display_name": "Python 3",
   "language": "python",
   "name": "python3"
  },
  "language_info": {
   "codemirror_mode": {
    "name": "ipython",
    "version": 3
   },
   "file_extension": ".py",
   "mimetype": "text/x-python",
   "name": "python",
   "nbconvert_exporter": "python",
   "pygments_lexer": "ipython3",
   "version": "3.6.5"
  }
 },
 "nbformat": 4,
 "nbformat_minor": 2
}
